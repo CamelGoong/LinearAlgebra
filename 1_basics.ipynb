{
  "cells": [
    {
      "cell_type": "markdown",
      "metadata": {
        "id": "view-in-github",
        "colab_type": "text"
      },
      "source": [
        "<a href=\"https://colab.research.google.com/github/CamelGoong/LinearAlgebra/blob/main/%EC%8B%A4%EC%8A%B51.ipynb\" target=\"_parent\"><img src=\"https://colab.research.google.com/assets/colab-badge.svg\" alt=\"Open In Colab\"/></a>"
      ]
    },
    {
      "cell_type": "code",
      "execution_count": null,
      "metadata": {
        "id": "g4zI2MJNJ9kd"
      },
      "outputs": [],
      "source": [
        "import numpy as np"
      ]
    },
    {
      "cell_type": "code",
      "execution_count": null,
      "metadata": {
        "id": "e2UTHYQ9J9kg",
        "outputId": "5879d91c-43bc-43ce-ed72-b38502d75911"
      },
      "outputs": [
        {
          "name": "stdout",
          "output_type": "stream",
          "text": [
            "(3,)\n",
            "1\n"
          ]
        }
      ],
      "source": [
        "# column vector\n",
        "c = np.array([1,2,3])\n",
        "print(c.shape)\n",
        "\n",
        "# obtaining a particular entry\n",
        "print (c[0])"
      ]
    },
    {
      "cell_type": "code",
      "execution_count": null,
      "metadata": {
        "id": "HMFAf71mJ9kh",
        "outputId": "455e8f20-cfe3-4efc-b205-2e239f89551f"
      },
      "outputs": [
        {
          "name": "stdout",
          "output_type": "stream",
          "text": [
            "(1, 3)\n"
          ]
        }
      ],
      "source": [
        "# row vector\n",
        "r = np.array([ [1,2,3] ])  # 두 겹의 괄호\n",
        "print (r.shape)"
      ]
    },
    {
      "cell_type": "code",
      "execution_count": null,
      "metadata": {
        "id": "6d6tc503J9ki",
        "outputId": "0b7a6dd7-1a1d-4f94-a575-a1aef6d07fff"
      },
      "outputs": [
        {
          "name": "stdout",
          "output_type": "stream",
          "text": [
            "2\n"
          ]
        }
      ],
      "source": [
        "# obtaining a particular entry\n",
        "print (r[0,1])"
      ]
    },
    {
      "cell_type": "code",
      "execution_count": null,
      "metadata": {
        "id": "IkBhTs0-J9ki",
        "outputId": "ad237308-8cd0-4a0f-879c-2c7df3b7f6e0"
      },
      "outputs": [
        {
          "name": "stdout",
          "output_type": "stream",
          "text": [
            "[[0. 0.]\n",
            " [0. 0.]]\n",
            "[[1. 1.]\n",
            " [1. 1.]]\n",
            "[[7 7]\n",
            " [7 7]]\n",
            "[[0.70092277 0.21925279]\n",
            " [0.97261661 0.31692046]]\n"
          ]
        }
      ],
      "source": [
        "# creating a matrix with all zeros\n",
        "a = np.zeros((2,2))\n",
        "print (a)\n",
        "# creating a matrix with all ones\n",
        "b = np.ones((2,2))\n",
        "print (b)\n",
        "             \n",
        "# creating a matrix filled with the same constant\n",
        "c = np.full((2,2), 7)\n",
        "print (c)\n",
        "             \n",
        "# creating a matrix with random values\n",
        "d = np.random.random((2,2)) # 0하고 1사이에서의 random\n",
        "print (d)"
      ]
    },
    {
      "cell_type": "code",
      "execution_count": null,
      "metadata": {
        "scrolled": true,
        "id": "QkgHFZGWJ9kj",
        "outputId": "56ad509e-4cdf-432a-bdf9-3228b94a725b"
      },
      "outputs": [
        {
          "name": "stdout",
          "output_type": "stream",
          "text": [
            "[[1 2]\n",
            " [3 4]\n",
            " [5 6]]\n"
          ]
        }
      ],
      "source": [
        "# creating a matrix\n",
        "A=np.array([[1,2],[3,4],[5,6]])\n",
        "print (A)\n"
      ]
    },
    {
      "cell_type": "code",
      "execution_count": null,
      "metadata": {
        "id": "ECmk4psuJ9kj",
        "outputId": "1a81898d-f50e-4fb3-8896-b267b88920ad"
      },
      "outputs": [
        {
          "data": {
            "text/plain": [
              "array([[11, 12, 13, 14],\n",
              "       [15, 16, 17, 18]])"
            ]
          },
          "execution_count": 8,
          "metadata": {},
          "output_type": "execute_result"
        }
      ],
      "source": [
        "# creating another matrix\n",
        "B=np.array([[11,12,13,14],[15,16,17,18]])\n",
        "B"
      ]
    },
    {
      "cell_type": "code",
      "execution_count": null,
      "metadata": {
        "id": "QVNovZdcJ9kk",
        "outputId": "cdfe8f39-7277-4898-99b2-ee91e0ee0b33"
      },
      "outputs": [
        {
          "data": {
            "text/plain": [
              "array([[1, 3, 5],\n",
              "       [2, 4, 6]])"
            ]
          },
          "execution_count": 9,
          "metadata": {},
          "output_type": "execute_result"
        }
      ],
      "source": [
        "# transpose a matrix\n",
        "A.T"
      ]
    },
    {
      "cell_type": "code",
      "execution_count": null,
      "metadata": {
        "scrolled": true,
        "id": "5C3SqwObJ9kk",
        "outputId": "b6a6ccd7-5ac4-4869-d22b-806ca713936f"
      },
      "outputs": [
        {
          "data": {
            "text/plain": [
              "array([[ 41,  44,  47,  50],\n",
              "       [ 93, 100, 107, 114],\n",
              "       [145, 156, 167, 178]])"
            ]
          },
          "execution_count": 10,
          "metadata": {},
          "output_type": "execute_result"
        }
      ],
      "source": [
        "# matrix-matrix multiplication\n",
        "np.dot(A,B)"
      ]
    },
    {
      "cell_type": "code",
      "execution_count": null,
      "metadata": {
        "id": "AbImz7icJ9kl",
        "outputId": "5e550931-a109-496f-c4e1-f9036f6061fa"
      },
      "outputs": [
        {
          "ename": "ValueError",
          "evalue": "shapes (2,4) and (3,2) not aligned: 4 (dim 1) != 3 (dim 0)",
          "output_type": "error",
          "traceback": [
            "\u001b[1;31m---------------------------------------------------------------------------\u001b[0m",
            "\u001b[1;31mValueError\u001b[0m                                Traceback (most recent call last)",
            "\u001b[1;32m~\\AppData\\Local\\Temp/ipykernel_10756/3023173115.py\u001b[0m in \u001b[0;36m<module>\u001b[1;34m\u001b[0m\n\u001b[0;32m      1\u001b[0m \u001b[1;31m# matrix-matrix multiplication\u001b[0m\u001b[1;33m\u001b[0m\u001b[1;33m\u001b[0m\u001b[0m\n\u001b[0;32m      2\u001b[0m \u001b[1;31m# size should match!\u001b[0m\u001b[1;33m\u001b[0m\u001b[1;33m\u001b[0m\u001b[0m\n\u001b[1;32m----> 3\u001b[1;33m \u001b[0mnp\u001b[0m\u001b[1;33m.\u001b[0m\u001b[0mdot\u001b[0m\u001b[1;33m(\u001b[0m\u001b[0mB\u001b[0m\u001b[1;33m,\u001b[0m\u001b[0mA\u001b[0m\u001b[1;33m)\u001b[0m\u001b[1;33m\u001b[0m\u001b[1;33m\u001b[0m\u001b[0m\n\u001b[0m",
            "\u001b[1;32m<__array_function__ internals>\u001b[0m in \u001b[0;36mdot\u001b[1;34m(*args, **kwargs)\u001b[0m\n",
            "\u001b[1;31mValueError\u001b[0m: shapes (2,4) and (3,2) not aligned: 4 (dim 1) != 3 (dim 0)"
          ]
        }
      ],
      "source": [
        "# matrix-matrix multiplication \n",
        "# size should match!\n",
        "np.dot(B,A)"
      ]
    },
    {
      "cell_type": "code",
      "execution_count": null,
      "metadata": {
        "id": "JZjXoHp9J9km"
      },
      "outputs": [],
      "source": [
        "# coefficient matrix A and a vector b\n",
        "A=np.array([[60, 5.5, 1],[65, 5.0, 0],[55, 6.0, 1]])\n",
        "b=np.array([66, 70, 78])"
      ]
    },
    {
      "cell_type": "code",
      "execution_count": null,
      "metadata": {
        "id": "CzCPHFhhJ9km",
        "outputId": "450fa7f5-7362-4364-a6a6-6d8781e4a8df"
      },
      "outputs": [
        {
          "data": {
            "text/plain": [
              "array([[1., 0., 0.],\n",
              "       [0., 1., 0.],\n",
              "       [0., 0., 1.]])"
            ]
          },
          "execution_count": 13,
          "metadata": {},
          "output_type": "execute_result"
        }
      ],
      "source": [
        "# identity matrix \n",
        "eye3 = np.eye(3)\n",
        "eye3"
      ]
    },
    {
      "cell_type": "code",
      "execution_count": null,
      "metadata": {
        "id": "qMEkIG0UJ9km",
        "outputId": "be59bafb-3159-4c79-f39b-35badb9f7d68"
      },
      "outputs": [
        {
          "data": {
            "text/plain": [
              "array([[ 0.08695652,  0.00869565, -0.08695652],\n",
              "       [-1.13043478,  0.08695652,  1.13043478],\n",
              "       [ 2.        , -1.        , -1.        ]])"
            ]
          },
          "execution_count": 14,
          "metadata": {},
          "output_type": "execute_result"
        }
      ],
      "source": [
        "# computing an inverse\n",
        "from numpy.linalg import inv\n",
        "A_inv = inv(A)\n",
        "A_inv"
      ]
    },
    {
      "cell_type": "code",
      "execution_count": null,
      "metadata": {
        "id": "QvTs30Z1J9km",
        "outputId": "e0837c2e-0c49-425a-a2fb-794f3cf48214"
      },
      "outputs": [
        {
          "data": {
            "text/plain": [
              "array([[ 5.21739130e+00,  4.78260870e-02, -8.69565217e-02],\n",
              "       [-7.34782609e+01,  4.34782609e-01,  0.00000000e+00],\n",
              "       [ 1.10000000e+02, -6.00000000e+00, -1.00000000e+00]])"
            ]
          },
          "execution_count": 17,
          "metadata": {},
          "output_type": "execute_result"
        }
      ],
      "source": [
        "# wrong matrix multiplication\n",
        "A*A_inv # elementary-wise하게 계산이 되어버리는 오류"
      ]
    },
    {
      "cell_type": "code",
      "execution_count": null,
      "metadata": {
        "id": "xdD96iBiJ9kn",
        "outputId": "62326def-864d-4d32-d1cb-876fb9f9137e"
      },
      "outputs": [
        {
          "data": {
            "text/plain": [
              "array([[ 1.00000000e+00,  0.00000000e+00,  0.00000000e+00],\n",
              "       [ 2.22044605e-16,  1.00000000e+00, -2.22044605e-16],\n",
              "       [-4.44089210e-16,  0.00000000e+00,  1.00000000e+00]])"
            ]
          },
          "execution_count": 18,
          "metadata": {},
          "output_type": "execute_result"
        }
      ],
      "source": [
        "# correct matrix multiplication\n",
        "A.dot(A_inv)"
      ]
    },
    {
      "cell_type": "code",
      "execution_count": null,
      "metadata": {
        "id": "64KJ885sJ9kn",
        "outputId": "268d5b32-92b4-40f8-b82b-1ee75c8ef59e"
      },
      "outputs": [
        {
          "data": {
            "text/plain": [
              "array([ -0.43478261,  19.65217391, -16.        ])"
            ]
          },
          "execution_count": 19,
          "metadata": {},
          "output_type": "execute_result"
        }
      ],
      "source": [
        "# solution of a linear system\n",
        "x=A_inv.dot(b)\n",
        "x"
      ]
    },
    {
      "cell_type": "code",
      "execution_count": null,
      "metadata": {
        "id": "AqOsYuseJ9kn",
        "outputId": "ed2e6388-7ac7-4ff3-cc85-43cb1599c20c"
      },
      "outputs": [
        {
          "data": {
            "text/plain": [
              "array([ -0.43478261,  19.65217391, -16.        ])"
            ]
          },
          "execution_count": 20,
          "metadata": {},
          "output_type": "execute_result"
        }
      ],
      "source": [
        "# a better way to solve the same linear system\n",
        "from numpy.linalg import solve\n",
        "x = solve(A,b)\n",
        "x"
      ]
    },
    {
      "cell_type": "code",
      "execution_count": null,
      "metadata": {
        "collapsed": true,
        "id": "rwuPLRR1J9kn"
      },
      "outputs": [],
      "source": [
        ""
      ]
    }
  ],
  "metadata": {
    "anaconda-cloud": {},
    "kernelspec": {
      "display_name": "Python 3 (ipykernel)",
      "language": "python",
      "name": "python3"
    },
    "language_info": {
      "codemirror_mode": {
        "name": "ipython",
        "version": 3
      },
      "file_extension": ".py",
      "mimetype": "text/x-python",
      "name": "python",
      "nbconvert_exporter": "python",
      "pygments_lexer": "ipython3",
      "version": "3.9.7"
    },
    "colab": {
      "name": "1_basics.ipynb",
      "provenance": [],
      "include_colab_link": true
    }
  },
  "nbformat": 4,
  "nbformat_minor": 0
}
