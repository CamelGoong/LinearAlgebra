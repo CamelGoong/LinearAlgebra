{
  "cells": [
    {
      "cell_type": "markdown",
      "metadata": {
        "id": "view-in-github",
        "colab_type": "text"
      },
      "source": [
        "<a href=\"https://colab.research.google.com/github/CamelGoong/LinearAlgebra/blob/main/%5BBoost%5D2_Least_Square_Problem.ipynb\" target=\"_parent\"><img src=\"https://colab.research.google.com/assets/colab-badge.svg\" alt=\"Open In Colab\"/></a>"
      ]
    },
    {
      "cell_type": "code",
      "execution_count": 1,
      "metadata": {
        "collapsed": true,
        "id": "kkdNopAJ9ZHa"
      },
      "outputs": [],
      "source": [
        "import numpy as np"
      ]
    },
    {
      "cell_type": "code",
      "execution_count": 2,
      "metadata": {
        "collapsed": true,
        "id": "SJNvmxST9ZHe"
      },
      "outputs": [],
      "source": [
        "A=np.array([[11,12,13,14],[15,16,17,18]])"
      ]
    },
    {
      "cell_type": "code",
      "execution_count": 4,
      "metadata": {
        "collapsed": true,
        "id": "iFBre_Bh9ZHe"
      },
      "outputs": [],
      "source": [
        "# least squares y ~= ax+b\n",
        "# input data\n",
        "x = np.array([0, 1, 2, 3]) # 키\n",
        "y = np.array([-1, 0.2, 0.9, 2.1]) # 수명"
      ]
    },
    {
      "cell_type": "code",
      "execution_count": 5,
      "metadata": {
        "colab": {
          "base_uri": "https://localhost:8080/"
        },
        "id": "ExEsgTTX9ZHf",
        "outputId": "64480aa8-6f2a-4277-cedc-d413d1f39c41"
      },
      "outputs": [
        {
          "output_type": "execute_result",
          "data": {
            "text/plain": [
              "array([[0., 1.],\n",
              "       [1., 1.],\n",
              "       [2., 1.],\n",
              "       [3., 1.]])"
            ]
          },
          "metadata": {},
          "execution_count": 5
        }
      ],
      "source": [
        "# concatnate a constant term\n",
        "A = np.vstack([x, np.ones(len(x))]).T\n",
        "A"
      ]
    },
    {
      "cell_type": "code",
      "execution_count": 6,
      "metadata": {
        "colab": {
          "base_uri": "https://localhost:8080/"
        },
        "id": "oLmZnHez9ZHg",
        "outputId": "16cc51d7-d79a-47cf-a104-0ead28a13147"
      },
      "outputs": [
        {
          "output_type": "execute_result",
          "data": {
            "text/plain": [
              "array([[14.,  6.],\n",
              "       [ 6.,  4.]])"
            ]
          },
          "metadata": {},
          "execution_count": 6
        }
      ],
      "source": [
        "# create a matrix A'*A\n",
        "At_A = A.T.dot(A)\n",
        "At_A"
      ]
    },
    {
      "cell_type": "code",
      "execution_count": 7,
      "metadata": {
        "colab": {
          "base_uri": "https://localhost:8080/"
        },
        "id": "iejciXri9ZHh",
        "outputId": "0d886a7a-b0f6-4f48-a0ee-36100d3a1271"
      },
      "outputs": [
        {
          "output_type": "execute_result",
          "data": {
            "text/plain": [
              "array([8.3, 2.2])"
            ]
          },
          "metadata": {},
          "execution_count": 7
        }
      ],
      "source": [
        "# create a vector A'*b\n",
        "At_y = A.T.dot(y)\n",
        "At_y"
      ]
    },
    {
      "cell_type": "code",
      "execution_count": 10,
      "metadata": {
        "colab": {
          "base_uri": "https://localhost:8080/"
        },
        "id": "rcGsl0tH9ZHh",
        "outputId": "e28b7aa2-0250-493f-8543-fd03f78c93d9"
      },
      "outputs": [
        {
          "output_type": "execute_result",
          "data": {
            "text/plain": [
              "array([ 1.  , -0.95])"
            ]
          },
          "metadata": {},
          "execution_count": 10
        }
      ],
      "source": [
        "# solve for x\n",
        "from numpy.linalg import solve\n",
        "c = solve(At_A, At_y) # AX = b에서 X값을 구한 것\n",
        "c"
      ]
    },
    {
      "cell_type": "code",
      "execution_count": 11,
      "metadata": {
        "colab": {
          "base_uri": "https://localhost:8080/"
        },
        "id": "uzis7Ktg9ZHi",
        "outputId": "36181c0a-f936-451b-bbff-f6e847dc02c8"
      },
      "outputs": [
        {
          "output_type": "execute_result",
          "data": {
            "text/plain": [
              "array([-0.95,  0.05,  1.05,  2.05])"
            ]
          },
          "metadata": {},
          "execution_count": 11
        }
      ],
      "source": [
        "# fitted value # 위에서 구한 solution x값을 원래 모델에 적용\n",
        "y_fitted = A.dot(c)\n",
        "y_fitted"
      ]
    },
    {
      "cell_type": "code",
      "execution_count": 12,
      "metadata": {
        "colab": {
          "base_uri": "https://localhost:8080/",
          "height": 265
        },
        "id": "dyZpqYry9ZHi",
        "outputId": "f1a60ef1-aa83-44b3-d4f0-4ca4e1e524c4"
      },
      "outputs": [
        {
          "output_type": "display_data",
          "data": {
            "image/png": "[encoded data removed]",
            "text/plain": [
              "<Figure size 432x288 with 1 Axes>"
            ]
          },
          "metadata": {
            "needs_background": "light"
          }
        }
      ],
      "source": [
        "import matplotlib.pyplot as plt\n",
        "plt.plot(x, y, 'o', label='Original data', markersize=10)\n",
        "plt.plot(x, y_fitted, 'r', label='Fitted line')\n",
        "plt.legend()\n",
        "plt.show()"
      ]
    },
    {
      "cell_type": "code",
      "execution_count": 13,
      "metadata": {
        "colab": {
          "base_uri": "https://localhost:8080/"
        },
        "id": "_FyN5ZXZ9ZHj",
        "outputId": "8a1e5ed0-d0ff-41ec-f447-944581db8d2b"
      },
      "outputs": [
        {
          "output_type": "execute_result",
          "data": {
            "text/plain": [
              "array([-0.05,  0.15, -0.15,  0.05])"
            ]
          },
          "metadata": {},
          "execution_count": 13
        }
      ],
      "source": [
        "# compute error vector\n",
        "error = y-y_fitted\n",
        "error"
      ]
    },
    {
      "cell_type": "code",
      "execution_count": 14,
      "metadata": {
        "colab": {
          "base_uri": "https://localhost:8080/"
        },
        "id": "HDDJ2fok9ZHj",
        "outputId": "bd66b9ef-cfe9-4749-df7c-384dacadae77"
      },
      "outputs": [
        {
          "output_type": "execute_result",
          "data": {
            "text/plain": [
              "0.22360679774997896"
            ]
          },
          "metadata": {},
          "execution_count": 14
        }
      ],
      "source": [
        "# calculate error\n",
        "np.sqrt(np.sum(error**2))"
      ]
    },
    {
      "cell_type": "code",
      "execution_count": 15,
      "metadata": {
        "colab": {
          "base_uri": "https://localhost:8080/"
        },
        "id": "gVZxcpHc9ZHj",
        "outputId": "1f268f7f-e1a8-4d8b-92c6-8b6f0f58e33d"
      },
      "outputs": [
        {
          "output_type": "execute_result",
          "data": {
            "text/plain": [
              "0.22360679774997896"
            ]
          },
          "metadata": {},
          "execution_count": 15
        }
      ],
      "source": [
        "# calculate error using 'norm' function\n",
        "from numpy.linalg import norm\n",
        "norm(y-y_fitted)"
      ]
    },
    {
      "cell_type": "code",
      "execution_count": 16,
      "metadata": {
        "collapsed": true,
        "id": "FNGa0ndh9ZHk"
      },
      "outputs": [],
      "source": [
        "# example in the slide\n",
        "A=np.array([[60, 5.5, 1],[65, 4.8, 0],[55, 6.0, 1],[50, 5.0, 1]])\n",
        "b=np.array([66, 70, 78, 72])"
      ]
    },
    {
      "cell_type": "code",
      "execution_count": 17,
      "metadata": {
        "colab": {
          "base_uri": "https://localhost:8080/"
        },
        "id": "kLQbn5FH9ZHk",
        "outputId": "bd3ca75a-f906-4f72-fdcf-644a6de24d89"
      },
      "outputs": [
        {
          "output_type": "execute_result",
          "data": {
            "text/plain": [
              "array([[1.3350e+04, 1.2220e+03, 1.6500e+02],\n",
              "       [1.2220e+03, 1.1429e+02, 1.6500e+01],\n",
              "       [1.6500e+02, 1.6500e+01, 3.0000e+00]])"
            ]
          },
          "metadata": {},
          "execution_count": 17
        }
      ],
      "source": [
        "# create a matrix A'*A\n",
        "At_A = A.T.dot(A)\n",
        "At_A"
      ]
    },
    {
      "cell_type": "code",
      "execution_count": 18,
      "metadata": {
        "colab": {
          "base_uri": "https://localhost:8080/"
        },
        "id": "wuAi2fy09ZHk",
        "outputId": "7cf2d362-5eaf-4e38-fc01-745815e9761d"
      },
      "outputs": [
        {
          "output_type": "execute_result",
          "data": {
            "text/plain": [
              "array([16400.,  1527.,   216.])"
            ]
          },
          "metadata": {},
          "execution_count": 18
        }
      ],
      "source": [
        "# create a vector A'*b\n",
        "At_b = A.T.dot(b)\n",
        "At_b"
      ]
    },
    {
      "cell_type": "code",
      "execution_count": 19,
      "metadata": {
        "colab": {
          "base_uri": "https://localhost:8080/"
        },
        "id": "iO0Sx4d69ZHk",
        "outputId": "60724460-6a85-4821-bba8-00713ad238ba"
      },
      "outputs": [
        {
          "output_type": "execute_result",
          "data": {
            "text/plain": [
              "array([-0.12459016, 16.06557377, -9.50819672])"
            ]
          },
          "metadata": {},
          "execution_count": 19
        }
      ],
      "source": [
        "from numpy.linalg import solve\n",
        "x = solve(At_A,At_b)\n",
        "x"
      ]
    },
    {
      "cell_type": "code",
      "execution_count": 20,
      "metadata": {
        "colab": {
          "base_uri": "https://localhost:8080/"
        },
        "id": "FxYDp-AV9ZHl",
        "outputId": "dc82a0f4-a0e4-4144-915d-eb9144a7fed7"
      },
      "outputs": [
        {
          "output_type": "execute_result",
          "data": {
            "text/plain": [
              "array([71.37704918, 69.01639344, 80.03278689, 64.59016393])"
            ]
          },
          "metadata": {},
          "execution_count": 20
        }
      ],
      "source": [
        "# fitted value\n",
        "b_fitted = A.dot(x)\n",
        "b_fitted"
      ]
    },
    {
      "cell_type": "code",
      "execution_count": 21,
      "metadata": {
        "colab": {
          "base_uri": "https://localhost:8080/"
        },
        "id": "yrVa4Y7z9ZHl",
        "outputId": "09e4d662-5863-410c-d0bc-fcecc136a364"
      },
      "outputs": [
        {
          "output_type": "execute_result",
          "data": {
            "text/plain": [
              "array([-5.37704918,  0.98360656, -2.03278689,  7.40983607])"
            ]
          },
          "metadata": {},
          "execution_count": 21
        }
      ],
      "source": [
        "# compute error vector\n",
        "error = b-b_fitted\n",
        "error"
      ]
    },
    {
      "cell_type": "code",
      "execution_count": 22,
      "metadata": {
        "colab": {
          "base_uri": "https://localhost:8080/"
        },
        "id": "HAvf4ZGr9ZHl",
        "outputId": "a190b5e7-0a2b-4123-fa05-1c422bed20ac"
      },
      "outputs": [
        {
          "output_type": "execute_result",
          "data": {
            "text/plain": [
              "9.429635877746584"
            ]
          },
          "metadata": {},
          "execution_count": 22
        }
      ],
      "source": [
        "# calculate error\n",
        "np.sqrt(np.sum(error**2))"
      ]
    },
    {
      "cell_type": "code",
      "execution_count": 23,
      "metadata": {
        "colab": {
          "base_uri": "https://localhost:8080/"
        },
        "id": "z3YYDW1Y9ZHl",
        "outputId": "845e0e1a-8ce0-43d1-84c3-19d812703951"
      },
      "outputs": [
        {
          "output_type": "execute_result",
          "data": {
            "text/plain": [
              "9.429635877746584"
            ]
          },
          "metadata": {},
          "execution_count": 23
        }
      ],
      "source": [
        "# calculate error using 'norm' function\n",
        "from numpy.linalg import norm\n",
        "norm(b-b_fitted)\n"
      ]
    },
    {
      "cell_type": "code",
      "execution_count": null,
      "metadata": {
        "collapsed": true,
        "id": "mBfSo1V59ZHl"
      },
      "outputs": [],
      "source": [
        ""
      ]
    }
  ],
  "metadata": {
    "anaconda-cloud": {},
    "kernelspec": {
      "display_name": "Python 3",
      "language": "python",
      "name": "python3"
    },
    "language_info": {
      "codemirror_mode": {
        "name": "ipython",
        "version": 3
      },
      "file_extension": ".py",
      "mimetype": "text/x-python",
      "name": "python",
      "nbconvert_exporter": "python",
      "pygments_lexer": "ipython3",
      "version": "3.6.1"
    },
    "colab": {
      "name": "2_Least Square Problem.ipynb",
      "provenance": [],
      "include_colab_link": true
    }
  },
  "nbformat": 4,
  "nbformat_minor": 0
}